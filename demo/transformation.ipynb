{
 "cells": [
  {
   "cell_type": "markdown",
   "id": "28fef7d0-6442-42da-b7a9-eaecf1ee8f5b",
   "metadata": {},
   "source": [
    "**Demo for `teneva_ht_jax.transformation`**\n",
    "\n",
    "---\n",
    "\n",
    "This module contains the function for transformation of the HT-tensor into full (numpy) format."
   ]
  },
  {
   "cell_type": "markdown",
   "id": "eae38652-f2a9-46d0-8580-52557ed762c4",
   "metadata": {},
   "source": [
    "## Loading and importing modules"
   ]
  },
  {
   "cell_type": "code",
   "execution_count": 1,
   "id": "37d5d966-46b7-4d35-9d1e-6c70477a7018",
   "metadata": {
    "tags": []
   },
   "outputs": [],
   "source": [
    "import jax\n",
    "import jax.numpy as jnp\n",
    "import numpy as np\n",
    "import teneva_ht_jax as tnv\n",
    "from time import perf_counter as tpc\n",
    "rng = jax.random.PRNGKey(42)"
   ]
  },
  {
   "cell_type": "markdown",
   "id": "7476c10f-0ac3-44f0-9d20-fc055d77e3d6",
   "metadata": {},
   "source": [
    "## Function `full`"
   ]
  },
  {
   "cell_type": "markdown",
   "id": "448ff060-1001-493b-abbe-e73bc6ed3dff",
   "metadata": {},
   "source": [
    "Export HT-tensor to the full (numpy) format."
   ]
  },
  {
   "cell_type": "code",
   "execution_count": null,
   "id": "dda1da5b-a745-4896-9849-d36f528f99d5",
   "metadata": {},
   "outputs": [],
   "source": [
    "d = 8          # Dimension of the tensor\n",
    "n = 10         # Mode size for the tensor\n",
    "r = [3, 4, 5]  # Ranks for tree layers\n",
    "\n",
    "# Build the random HT-tensor:\n",
    "rng, key = jax.random.split(rng)\n",
    "Y = tnv.rand(d, n, r, key)"
   ]
  },
  {
   "cell_type": "code",
   "execution_count": null,
   "id": "6adada58-1849-466e-8ed5-a0fd49bc729a",
   "metadata": {},
   "outputs": [],
   "source": [
    "# TODO!\n",
    "\n",
    "Y_full = tnv.full(Y) # This function is not ready!\n",
    "print(Y_full.shape)"
   ]
  },
  {
   "cell_type": "markdown",
   "id": "0c3a12a8-48db-456d-9083-2d3ed6715bad",
   "metadata": {},
   "source": [
    "---"
   ]
  }
 ],
 "metadata": {
  "kernelspec": {
   "display_name": "Python 3 (ipykernel)",
   "language": "python",
   "name": "python3"
  },
  "language_info": {
   "codemirror_mode": {
    "name": "ipython",
    "version": 3
   },
   "file_extension": ".py",
   "mimetype": "text/x-python",
   "name": "python",
   "nbconvert_exporter": "python",
   "pygments_lexer": "ipython3",
   "version": "3.8.16"
  }
 },
 "nbformat": 4,
 "nbformat_minor": 5
}
