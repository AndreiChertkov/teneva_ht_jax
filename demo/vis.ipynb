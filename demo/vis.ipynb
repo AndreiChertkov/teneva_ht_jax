{
 "cells": [
  {
   "cell_type": "markdown",
   "id": "e51b9291-f33c-40ad-96ee-e2f9454ffc69",
   "metadata": {},
   "source": [
    "**Demo for `teneva_ht_jax.vis`**\n",
    "\n",
    "---\n",
    "\n",
    "This module contains the functions for visualization of HT-tensors."
   ]
  },
  {
   "cell_type": "markdown",
   "id": "3896a55c-1131-44fc-b746-1433ad4ddb08",
   "metadata": {},
   "source": [
    "## Loading and importing modules"
   ]
  },
  {
   "cell_type": "code",
   "execution_count": 1,
   "id": "c0584c0e-f675-4a49-842d-9d3528791f50",
   "metadata": {},
   "outputs": [],
   "source": [
    "from jax.config import config\n",
    "config.update('jax_enable_x64', True)\n",
    "import os\n",
    "os.environ['JAX_PLATFORM_NAME'] = 'cpu'"
   ]
  },
  {
   "cell_type": "code",
   "execution_count": 2,
   "id": "9941ed2c-6272-4144-8c96-4e800f0b5c49",
   "metadata": {},
   "outputs": [],
   "source": [
    "import jax\n",
    "import jax.numpy as jnp\n",
    "import numpy as np\n",
    "import teneva_ht_jax as tnv\n",
    "from time import perf_counter as tpc\n",
    "rng = jax.random.PRNGKey(42)"
   ]
  },
  {
   "cell_type": "markdown",
   "id": "c73f6184-e339-423b-a43c-51892aa3f60b",
   "metadata": {},
   "source": [
    "## Function `show`"
   ]
  },
  {
   "cell_type": "markdown",
   "id": "1ba7aa15-86d0-4048-bca5-2ad506beee11",
   "metadata": {},
   "source": [
    "Display mode size and ranks of the given HT-tensor."
   ]
  },
  {
   "cell_type": "code",
   "execution_count": 3,
   "id": "0d17f68d-5683-4732-a5f8-c75a9cba8520",
   "metadata": {
    "tags": []
   },
   "outputs": [
    {
     "name": "stdout",
     "output_type": "stream",
     "text": [
      "HT-tensor  | d=  8\n",
      "Level:   1 | Shape: (8, 10, 3)\n",
      "Level:   2 | Shape: (4, 3, 4, 3)\n",
      "Level:   3 | Shape: (2, 4, 5, 4)\n",
      "Level:   4 | Shape: (5, 5)\n"
     ]
    }
   ],
   "source": [
    "# Build the random HT-tensor:\n",
    "rng, key = jax.random.split(rng)\n",
    "Y = tnv.rand(d=8, n=10, r=[3, 4, 5], key=key)\n",
    "\n",
    "# Print the resulting HT-tensor:\n",
    "tnv.show(Y)                   "
   ]
  },
  {
   "cell_type": "markdown",
   "id": "5157c326-a02c-41fc-b82d-af0d55ddfb18",
   "metadata": {},
   "source": [
    "---"
   ]
  }
 ],
 "metadata": {
  "kernelspec": {
   "display_name": "Python 3 (ipykernel)",
   "language": "python",
   "name": "python3"
  },
  "language_info": {
   "codemirror_mode": {
    "name": "ipython",
    "version": 3
   },
   "file_extension": ".py",
   "mimetype": "text/x-python",
   "name": "python",
   "nbconvert_exporter": "python",
   "pygments_lexer": "ipython3",
   "version": "3.8.16"
  }
 },
 "nbformat": 4,
 "nbformat_minor": 5
}
