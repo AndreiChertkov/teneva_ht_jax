{
 "cells": [
  {
   "cell_type": "markdown",
   "id": "2d1cd616-8baa-4143-8b82-ab9f5e529411",
   "metadata": {},
   "source": [
    "**Demo for `teneva_ht_jax.gd`**\n",
    "\n",
    "---\n",
    "\n",
    "This module contains the function \"gd_appr\", which computes the HT-tensor by gradient descent method using the provided train dataset."
   ]
  },
  {
   "cell_type": "markdown",
   "id": "e1dc347f-8afa-418c-ac29-544189f40ec3",
   "metadata": {
    "tags": []
   },
   "source": [
    "## Loading and importing modules"
   ]
  },
  {
   "cell_type": "code",
   "execution_count": 1,
   "id": "22c02559-23ab-4428-8213-20ee7725cd82",
   "metadata": {
    "tags": []
   },
   "outputs": [],
   "source": [
    "import jax\n",
    "import jax.numpy as jnp\n",
    "import numpy as np\n",
    "import teneva_ht_jax as tnv\n",
    "from time import perf_counter as tpc\n",
    "rng = jax.random.PRNGKey(42)"
   ]
  },
  {
   "cell_type": "markdown",
   "id": "d4655d7d-856a-4bc3-bee8-a175a70fec43",
   "metadata": {},
   "source": [
    "## Function `gd_appr`"
   ]
  },
  {
   "cell_type": "markdown",
   "id": "0059a752-4102-4197-881f-e319ed6620f8",
   "metadata": {},
   "source": [
    "Build HT-tensor with gradient descent."
   ]
  },
  {
   "cell_type": "markdown",
   "id": "6db230b9-a342-4b21-86e9-e09e8e0b5529",
   "metadata": {},
   "source": [
    "First, we set the shape and ranks of the tensor:"
   ]
  },
  {
   "cell_type": "code",
   "execution_count": 2,
   "id": "98321dfa-a3d1-453a-9780-f5c3b69e78c7",
   "metadata": {
    "tags": []
   },
   "outputs": [],
   "source": [
    "d = 8          # Dimension of the tensor\n",
    "n = 10         # Mode size for the tensor\n",
    "r = [7, 8, 9]  # Ranks for tree layers"
   ]
  },
  {
   "cell_type": "markdown",
   "id": "818e344e-4008-4079-bcbe-caa98882104b",
   "metadata": {},
   "source": [
    "We set the target (discretized) function, for which we will try to build the HT-approximation:"
   ]
  },
  {
   "cell_type": "code",
   "execution_count": 3,
   "id": "c8801ac2-d2bb-4842-8f21-03b19749ef61",
   "metadata": {
    "tags": []
   },
   "outputs": [],
   "source": [
    "def func_build(d, n):\n",
    "    \"\"\"Ackley function. See https://www.sfu.ca/~ssurjano/ackley.html.\"\"\"\n",
    "\n",
    "    a = -32.768         # Grid lower bound\n",
    "    b = +32.768         # Grid upper bound\n",
    "\n",
    "    par_a = 20.         # Standard parameter values for Ackley function\n",
    "    par_b = 0.2\n",
    "    par_c = 2.*jnp.pi\n",
    "\n",
    "    def func(I):\n",
    "        \"\"\"Target function: y=f(I); [samples,d] -> [samples].\"\"\"\n",
    "        X = I / (n - 1) * (b - a) + a\n",
    "\n",
    "        y1 = jnp.sqrt(jnp.sum(X**2, axis=1) / d)\n",
    "        y1 = - par_a * jnp.exp(-par_b * y1)\n",
    "\n",
    "        y2 = jnp.sum(jnp.cos(par_c * X), axis=1)\n",
    "        y2 = - jnp.exp(y2 / d)\n",
    "\n",
    "        y3 = par_a + jnp.exp(1.)\n",
    "\n",
    "        return y1 + y2 + y3\n",
    "\n",
    "    return func\n",
    "\n",
    "func = func_build(d, n)"
   ]
  },
  {
   "cell_type": "markdown",
   "id": "f9e7414d-18b4-4e3a-8ca5-921780665664",
   "metadata": {},
   "source": [
    "Then we generate train and validation data:"
   ]
  },
  {
   "cell_type": "code",
   "execution_count": 4,
   "id": "42222fba-8dd8-457d-93ee-03d01b5e09c2",
   "metadata": {
    "tags": []
   },
   "outputs": [],
   "source": [
    "m_trn = 1.E+5 # Number of train items\n",
    "\n",
    "rng, key = jax.random.split(rng)\n",
    "I_trn = jax.random.choice(key, np.arange(n), (int(m_trn), d), replace=True)\n",
    "y_trn = func(I_trn)"
   ]
  },
  {
   "cell_type": "code",
   "execution_count": 5,
   "id": "3f366f53-095c-466d-b946-95268122db10",
   "metadata": {
    "tags": []
   },
   "outputs": [],
   "source": [
    "m_vld = 1.E+3 # Number of validation items\n",
    "\n",
    "rng, key = jax.random.split(rng)\n",
    "I_vld = jax.random.choice(key, np.arange(n), (int(m_trn), d), replace=True)\n",
    "y_vld = func(I_vld)"
   ]
  },
  {
   "cell_type": "markdown",
   "id": "d9a5e578-93c9-4dc6-8bbf-89f285618f92",
   "metadata": {},
   "source": [
    "Let build the random HT-tensor (initial approximation):"
   ]
  },
  {
   "cell_type": "code",
   "execution_count": 6,
   "id": "eca1639d-9778-4fa6-af04-705564c421aa",
   "metadata": {
    "tags": []
   },
   "outputs": [],
   "source": [
    "rng, key = jax.random.split(rng)\n",
    "Y = tnv.rand(d, n, r, key)"
   ]
  },
  {
   "cell_type": "markdown",
   "id": "eb5fb9a7-9f80-42bb-8dd9-ad30e5ad2415",
   "metadata": {},
   "source": [
    "Next we set the parameters of the gradient descent method:"
   ]
  },
  {
   "cell_type": "code",
   "execution_count": 7,
   "id": "1670462d-f764-4c0b-9ac6-de767d237221",
   "metadata": {
    "tags": []
   },
   "outputs": [],
   "source": [
    "epochs = 30     # Number of train epochs\n",
    "batch  = 100    # Size of the batch for train\n",
    "lr     = 1.E-2  # Learning rate for training"
   ]
  },
  {
   "cell_type": "markdown",
   "id": "c0ee9065-8aa9-49e3-ae60-ef3062dba8fe",
   "metadata": {},
   "source": [
    "And now we can construct the HT-approximation using gradient descent:"
   ]
  },
  {
   "cell_type": "code",
   "execution_count": 8,
   "id": "9aa694b7-139b-4b24-8e15-ab7479024b09",
   "metadata": {
    "tags": []
   },
   "outputs": [
    {
     "name": "stdout",
     "output_type": "stream",
     "text": [
      "#   1 | e_trn : 1.0e+00 | e_vld : 1.0e+00 | t :    2.35\n",
      "#   2 | e_trn : 1.0e+00 | e_vld : 1.0e+00 | t :    3.24\n",
      "#   3 | e_trn : 1.0e+00 | e_vld : 1.0e+00 | t :    4.14\n",
      "#   4 | e_trn : 1.0e+00 | e_vld : 1.0e+00 | t :    5.06\n",
      "#   5 | e_trn : 1.0e+00 | e_vld : 1.0e+00 | t :    5.97\n",
      "#   6 | e_trn : 1.0e+00 | e_vld : 1.0e+00 | t :    6.82\n",
      "#   7 | e_trn : 1.0e+00 | e_vld : 1.0e+00 | t :    7.65\n",
      "#   8 | e_trn : 1.0e+00 | e_vld : 1.0e+00 | t :    8.49\n",
      "#   9 | e_trn : 1.0e+00 | e_vld : 1.0e+00 | t :    9.32\n",
      "#  10 | e_trn : 1.0e+00 | e_vld : 1.0e+00 | t :   10.21\n",
      "#  11 | e_trn : 1.0e+00 | e_vld : 1.0e+00 | t :   11.07\n",
      "#  12 | e_trn : 1.0e+00 | e_vld : 1.0e+00 | t :   11.98\n",
      "#  13 | e_trn : 2.1e-02 | e_vld : 2.1e-02 | t :   12.88\n",
      "#  14 | e_trn : 2.8e-02 | e_vld : 2.8e-02 | t :   13.82\n",
      "#  15 | e_trn : 1.4e-02 | e_vld : 1.4e-02 | t :   14.86\n",
      "#  16 | e_trn : 1.6e-02 | e_vld : 1.6e-02 | t :   15.74\n",
      "#  17 | e_trn : 2.9e-02 | e_vld : 2.9e-02 | t :   16.70\n",
      "#  18 | e_trn : 2.7e-02 | e_vld : 2.7e-02 | t :   17.59\n",
      "#  19 | e_trn : 1.3e-02 | e_vld : 1.3e-02 | t :   18.48\n",
      "#  20 | e_trn : 1.4e-02 | e_vld : 1.4e-02 | t :   19.40\n",
      "#  21 | e_trn : 3.1e-02 | e_vld : 3.1e-02 | t :   20.28\n",
      "#  22 | e_trn : 1.0e-02 | e_vld : 1.0e-02 | t :   21.16\n",
      "#  23 | e_trn : 2.3e-02 | e_vld : 2.3e-02 | t :   22.04\n",
      "#  24 | e_trn : 3.1e-02 | e_vld : 3.1e-02 | t :   22.95\n",
      "#  25 | e_trn : 1.1e-02 | e_vld : 1.1e-02 | t :   23.84\n",
      "#  26 | e_trn : 1.5e-02 | e_vld : 1.5e-02 | t :   24.75\n",
      "#  27 | e_trn : 2.5e-02 | e_vld : 2.5e-02 | t :   25.66\n",
      "#  28 | e_trn : 1.2e-02 | e_vld : 1.2e-02 | t :   26.63\n",
      "#  29 | e_trn : 1.3e-02 | e_vld : 1.3e-02 | t :   27.57\n",
      "#  30 | e_trn : 1.4e-02 | e_vld : 1.4e-02 | t :   28.49\n"
     ]
    }
   ],
   "source": [
    "rng, key = jax.random.split(rng)\n",
    "Y = tnv.gd_appr(Y, I_trn, y_trn, I_vld, y_vld, epochs, batch, lr, key, log=True)"
   ]
  },
  {
   "cell_type": "markdown",
   "id": "d4357f13-4822-4e7d-bb2d-9f44dfbb7dfd",
   "metadata": {},
   "source": [
    "Let select some tensor element and compute the value from the constracted by GD approximation:"
   ]
  },
  {
   "cell_type": "code",
   "execution_count": 9,
   "id": "c2def220-24b9-401e-8443-0dd8f6086f56",
   "metadata": {},
   "outputs": [
    {
     "name": "stdout",
     "output_type": "stream",
     "text": [
      "20.84243\n"
     ]
    }
   ],
   "source": [
    "k = np.array([0, 1, 2, 3, 4, 5, 6, 7])\n",
    "y = tnv.get(Y, k)\n",
    "print(y)"
   ]
  },
  {
   "cell_type": "markdown",
   "id": "e53e2b2d-be95-4815-8e8d-949c8eed9aad",
   "metadata": {},
   "source": [
    "We can compute the same element from the target function:"
   ]
  },
  {
   "cell_type": "code",
   "execution_count": 10,
   "id": "9df6a84a-f36a-404d-8d5f-77e53b1a912f",
   "metadata": {},
   "outputs": [
    {
     "name": "stdout",
     "output_type": "stream",
     "text": [
      "21.170488\n"
     ]
    }
   ],
   "source": [
    "y_real = func(k.reshape(1, -1))[0]\n",
    "print(y_real)"
   ]
  },
  {
   "cell_type": "code",
   "execution_count": 11,
   "id": "4b0f573b-fb2d-437b-b0c1-4edf0a2ac285",
   "metadata": {},
   "outputs": [
    {
     "name": "stdout",
     "output_type": "stream",
     "text": [
      "Error : 3.3e-01\n"
     ]
    }
   ],
   "source": [
    "# Let compare approximated and exact values:\n",
    "e = np.abs(y - y_real)\n",
    "print(f'Error : {e:7.1e}')"
   ]
  },
  {
   "cell_type": "markdown",
   "id": "2e05c469-385b-46dc-b0b9-fef87d4bf047",
   "metadata": {},
   "source": [
    "---"
   ]
  }
 ],
 "metadata": {
  "kernelspec": {
   "display_name": "Python 3 (ipykernel)",
   "language": "python",
   "name": "python3"
  },
  "language_info": {
   "codemirror_mode": {
    "name": "ipython",
    "version": 3
   },
   "file_extension": ".py",
   "mimetype": "text/x-python",
   "name": "python",
   "nbconvert_exporter": "python",
   "pygments_lexer": "ipython3",
   "version": "3.8.16"
  }
 },
 "nbformat": 4,
 "nbformat_minor": 5
}
