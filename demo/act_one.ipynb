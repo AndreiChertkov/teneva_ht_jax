{
 "cells": [
  {
   "cell_type": "markdown",
   "id": "2d1cd616-8baa-4143-8b82-ab9f5e529411",
   "metadata": {},
   "source": [
    "**Demo for `teneva_ht_jax.act_one`**\n",
    "\n",
    "---\n",
    "\n",
    "This module contains the basic operations with one HT-tensor (Y), including \"get\", etc."
   ]
  },
  {
   "cell_type": "markdown",
   "id": "e1dc347f-8afa-418c-ac29-544189f40ec3",
   "metadata": {
    "tags": []
   },
   "source": [
    "## Loading and importing modules"
   ]
  },
  {
   "cell_type": "code",
   "execution_count": 1,
   "id": "032e7eca-8a1e-47d5-8ace-f205043de228",
   "metadata": {},
   "outputs": [],
   "source": [
    "from jax.config import config\n",
    "config.update('jax_enable_x64', True)\n",
    "import os\n",
    "os.environ['JAX_PLATFORM_NAME'] = 'cpu'"
   ]
  },
  {
   "cell_type": "code",
   "execution_count": 2,
   "id": "22c02559-23ab-4428-8213-20ee7725cd82",
   "metadata": {
    "tags": []
   },
   "outputs": [],
   "source": [
    "import jax\n",
    "import jax.numpy as jnp\n",
    "import numpy as np\n",
    "import teneva_ht_jax as tnv\n",
    "from time import perf_counter as tpc\n",
    "rng = jax.random.PRNGKey(42)"
   ]
  },
  {
   "cell_type": "markdown",
   "id": "905d2392-9fee-422f-84bb-197b712045fd",
   "metadata": {
    "tags": []
   },
   "source": [
    "## Function `get`"
   ]
  },
  {
   "cell_type": "markdown",
   "id": "b090e284-1a1b-4113-b91f-59584cefe05e",
   "metadata": {},
   "source": [
    "Compute the element of the HT-tensor."
   ]
  },
  {
   "cell_type": "code",
   "execution_count": 3,
   "id": "a796fb06-ce38-43b0-873c-0de8744c7270",
   "metadata": {
    "tags": []
   },
   "outputs": [
    {
     "name": "stdout",
     "output_type": "stream",
     "text": [
      "0.11423279171264825\n"
     ]
    }
   ],
   "source": [
    "d = 8          # Dimension of the tensor\n",
    "n = 10         # Mode size for the tensor\n",
    "r = [3, 4, 5]  # Ranks for tree layers\n",
    "\n",
    "# Build the random HT-tensor:\n",
    "rng, key = jax.random.split(rng)\n",
    "Y = tnv.rand(d, n, r, key)\n",
    "\n",
    "# Select some tensor element and compute the value:\n",
    "k = np.array([0, 1, 2, 3, 4, 5, 6, 7])\n",
    "y = tnv.get(Y, k)\n",
    "print(y)"
   ]
  },
  {
   "cell_type": "markdown",
   "id": "447e60bd-d3de-4b9d-a6fc-cbaf9208c7b7",
   "metadata": {},
   "source": [
    "Let multiply the HT-tensor by 2, and check the change of the value in the same multi-index: "
   ]
  },
  {
   "cell_type": "code",
   "execution_count": 5,
   "id": "ef7ac9cc-1374-4bd4-bfec-42a81d9f0e4b",
   "metadata": {
    "tags": []
   },
   "outputs": [
    {
     "name": "stdout",
     "output_type": "stream",
     "text": [
      "0.2284655834252965\n"
     ]
    }
   ],
   "source": [
    "Y[-1] = Y[-1] * 2\n",
    "y = tnv.get(Y, k)\n",
    "print(y)"
   ]
  },
  {
   "cell_type": "markdown",
   "id": "4fd312c3-7c25-48eb-8e44-04e8b0fa4aac",
   "metadata": {},
   "source": [
    "We may transform the HT-tensor into full format and check the result:"
   ]
  },
  {
   "cell_type": "code",
   "execution_count": 4,
   "id": "b531044b-8016-4c77-9145-47c9ad52becc",
   "metadata": {
    "tags": []
   },
   "outputs": [],
   "source": [
    "# TODO!\n",
    "\n",
    "# Y_full = tnv.full(Y) # This function is not ready!\n",
    "\n",
    "# y_full = Y_full[tuple(k)]\n",
    "# print(y_full)\n",
    "\n",
    "# Let compare values:\n",
    "# e = np.abs(y - y_full)\n",
    "# print(f'Error : {e:7.1e}')"
   ]
  },
  {
   "cell_type": "markdown",
   "id": "2e05c469-385b-46dc-b0b9-fef87d4bf047",
   "metadata": {},
   "source": [
    "---"
   ]
  }
 ],
 "metadata": {
  "kernelspec": {
   "display_name": "Python 3 (ipykernel)",
   "language": "python",
   "name": "python3"
  },
  "language_info": {
   "codemirror_mode": {
    "name": "ipython",
    "version": 3
   },
   "file_extension": ".py",
   "mimetype": "text/x-python",
   "name": "python",
   "nbconvert_exporter": "python",
   "pygments_lexer": "ipython3",
   "version": "3.8.16"
  }
 },
 "nbformat": 4,
 "nbformat_minor": 5
}
