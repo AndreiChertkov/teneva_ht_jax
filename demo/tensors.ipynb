{
 "cells": [
  {
   "cell_type": "markdown",
   "id": "453b15fd-d186-4682-8b42-1a3e404c4746",
   "metadata": {},
   "source": [
    "**Demo for `teneva_ht_jax.tensors`**\n",
    "\n",
    "---\n",
    "\n",
    "This module contains the collection of functions for explicit construction of various useful HT-tensors (only random tensor for now)."
   ]
  },
  {
   "cell_type": "markdown",
   "id": "35e980ff-8414-408d-bc05-3a6120951e80",
   "metadata": {},
   "source": [
    "## Loading and importing modules"
   ]
  },
  {
   "cell_type": "code",
   "execution_count": 1,
   "id": "04fbdc39-5fd7-449e-83a1-db3069661e68",
   "metadata": {
    "tags": []
   },
   "outputs": [],
   "source": [
    "import jax\n",
    "import jax.numpy as jnp\n",
    "import numpy as np\n",
    "import teneva_ht_jax as tnv\n",
    "from time import perf_counter as tpc\n",
    "rng = jax.random.PRNGKey(42)"
   ]
  },
  {
   "cell_type": "markdown",
   "id": "95c3bc75-cd8a-448a-8431-80f028e7ee17",
   "metadata": {},
   "source": [
    "## Function `rand`"
   ]
  },
  {
   "cell_type": "markdown",
   "id": "6d351fd6-5f8a-4045-975f-68bb9052224c",
   "metadata": {},
   "source": [
    "Construct a random HT-tensor from the uniform distribution."
   ]
  },
  {
   "cell_type": "code",
   "execution_count": 2,
   "id": "f200942d-dd17-4258-a860-9e80f1d7e003",
   "metadata": {
    "tags": []
   },
   "outputs": [
    {
     "name": "stdout",
     "output_type": "stream",
     "text": [
      "HT-tensor  | d=  8\n",
      "Level:   1 | Shape: (8, 10, 3)\n",
      "Level:   2 | Shape: (4, 3, 4, 3)\n",
      "Level:   3 | Shape: (2, 4, 5, 4)\n",
      "Level:   4 | Shape: (5, 5)\n"
     ]
    }
   ],
   "source": [
    "d = 8         # Dimension of the tensor\n",
    "n = 10        # Mode size for the tensor\n",
    "r = [3, 4, 5] # Ranks for tree layers\n",
    "\n",
    "# Build the random HT-tensor:\n",
    "rng, key = jax.random.split(rng)\n",
    "Y = tnv.rand(d, n, r, key)\n",
    "\n",
    "# Print the resulting HT-tensor:\n",
    "tnv.show(Y)                   "
   ]
  },
  {
   "cell_type": "markdown",
   "id": "8f60f1c1-f10f-4ef8-bf1c-cd5f9709cdc8",
   "metadata": {},
   "source": [
    "If all ranks are equal, we may set it is a number:"
   ]
  },
  {
   "cell_type": "code",
   "execution_count": 3,
   "id": "02d3afed-7678-497e-ad7e-d8225cb99ea9",
   "metadata": {},
   "outputs": [
    {
     "name": "stdout",
     "output_type": "stream",
     "text": [
      "HT-tensor  | d=  8\n",
      "Level:   1 | Shape: (8, 10, 4)\n",
      "Level:   2 | Shape: (4, 4, 4, 4)\n",
      "Level:   3 | Shape: (2, 4, 4, 4)\n",
      "Level:   4 | Shape: (4, 4)\n"
     ]
    }
   ],
   "source": [
    "d = 8   # Dimension of the tensor\n",
    "n = 10  # Mode size for the tensor\n",
    "r = 4   # Ranks for tree layers\n",
    "\n",
    "# Build the random HT-tensor:\n",
    "rng, key = jax.random.split(rng)\n",
    "Y = tnv.rand(d, n, r, key)\n",
    "\n",
    "# Print the resulting HT-tensor:\n",
    "tnv.show(Y)                   "
   ]
  },
  {
   "cell_type": "markdown",
   "id": "833169f7-28d4-4b9d-80d6-842010ac2035",
   "metadata": {},
   "source": [
    "We may also use custom limits for the uniform destribution:"
   ]
  },
  {
   "cell_type": "code",
   "execution_count": 4,
   "id": "bdfa1e5a-2869-42f3-9814-368d9dab160d",
   "metadata": {
    "tags": []
   },
   "outputs": [
    {
     "name": "stdout",
     "output_type": "stream",
     "text": [
      "[[0.9963801  0.9902207  0.9933224  0.99755406]\n",
      " [0.9954925  0.999137   0.9916649  0.991549  ]\n",
      " [0.99372023 0.9969657  0.9979555  0.9964686 ]\n",
      " [0.99506474 0.99021447 0.99620223 0.9943191 ]\n",
      " [0.9987403  0.99158955 0.9911972  0.99271756]\n",
      " [0.99949336 0.99380195 0.99738765 0.9994141 ]\n",
      " [0.992728   0.9925216  0.99771726 0.99352854]\n",
      " [0.99336684 0.99970996 0.9904865  0.99945676]\n",
      " [0.9913098  0.9926554  0.99574786 0.99213517]\n",
      " [0.9915967  0.99672365 0.99495906 0.9987823 ]]\n"
     ]
    }
   ],
   "source": [
    "a = 0.99  # Minimum value\n",
    "b = 1.    # Maximum value\n",
    "\n",
    "# Build the random HT-tensor:\n",
    "rng, key = jax.random.split(rng)\n",
    "Y = tnv.rand(d, n, r, key, a, b)\n",
    "\n",
    "# Print the first HT-core:\n",
    "print(Y[0][0])                      "
   ]
  },
  {
   "cell_type": "markdown",
   "id": "e4b330b1-b020-44e8-81f9-b2d17c0d4531",
   "metadata": {
    "tags": []
   },
   "source": [
    "---"
   ]
  }
 ],
 "metadata": {
  "kernelspec": {
   "display_name": "Python 3 (ipykernel)",
   "language": "python",
   "name": "python3"
  },
  "language_info": {
   "codemirror_mode": {
    "name": "ipython",
    "version": 3
   },
   "file_extension": ".py",
   "mimetype": "text/x-python",
   "name": "python",
   "nbconvert_exporter": "python",
   "pygments_lexer": "ipython3",
   "version": "3.8.16"
  }
 },
 "nbformat": 4,
 "nbformat_minor": 5
}
