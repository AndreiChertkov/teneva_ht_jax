{
 "cells": [
  {
   "cell_type": "markdown",
   "id": "453b15fd-d186-4682-8b42-1a3e404c4746",
   "metadata": {},
   "source": [
    "**Demo for `teneva_ht_jax.tensors`**\n",
    "\n",
    "---\n",
    "\n",
    "This module contains the collection of functions for explicit construction of various useful HT-tensors (only random tensor for now)."
   ]
  },
  {
   "cell_type": "markdown",
   "id": "35e980ff-8414-408d-bc05-3a6120951e80",
   "metadata": {},
   "source": [
    "## Loading and importing modules"
   ]
  },
  {
   "cell_type": "code",
   "execution_count": 1,
   "id": "d1c951ed-5dd1-49e0-b1e2-68039e0830cd",
   "metadata": {
    "tags": []
   },
   "outputs": [],
   "source": [
    "from jax.config import config\n",
    "config.update('jax_enable_x64', True)\n",
    "import os\n",
    "os.environ['JAX_PLATFORM_NAME'] = 'cpu'"
   ]
  },
  {
   "cell_type": "code",
   "execution_count": 2,
   "id": "04fbdc39-5fd7-449e-83a1-db3069661e68",
   "metadata": {
    "tags": []
   },
   "outputs": [],
   "source": [
    "import jax\n",
    "import jax.numpy as jnp\n",
    "import numpy as np\n",
    "import teneva_ht_jax as tnv\n",
    "from time import perf_counter as tpc\n",
    "rng = jax.random.PRNGKey(42)"
   ]
  },
  {
   "cell_type": "markdown",
   "id": "95c3bc75-cd8a-448a-8431-80f028e7ee17",
   "metadata": {},
   "source": [
    "## Function `rand`"
   ]
  },
  {
   "cell_type": "markdown",
   "id": "6d351fd6-5f8a-4045-975f-68bb9052224c",
   "metadata": {},
   "source": [
    "Construct a random HT-tensor from the uniform distribution."
   ]
  },
  {
   "cell_type": "code",
   "execution_count": 3,
   "id": "f200942d-dd17-4258-a860-9e80f1d7e003",
   "metadata": {
    "tags": []
   },
   "outputs": [
    {
     "name": "stdout",
     "output_type": "stream",
     "text": [
      "HT-tensor  | d=  8\n",
      "Level:   1 | Shape: (8, 10, 3)\n",
      "Level:   2 | Shape: (4, 3, 4, 3)\n",
      "Level:   3 | Shape: (2, 4, 5, 4)\n",
      "Level:   4 | Shape: (5, 5)\n"
     ]
    }
   ],
   "source": [
    "d = 8         # Dimension of the tensor\n",
    "n = 10        # Mode size for the tensor\n",
    "r = [3, 4, 5] # Ranks for tree layers\n",
    "\n",
    "# Build the random HT-tensor:\n",
    "rng, key = jax.random.split(rng)\n",
    "Y = tnv.rand(d, n, r, key)\n",
    "\n",
    "# Print the resulting HT-tensor:\n",
    "tnv.show(Y)                   "
   ]
  },
  {
   "cell_type": "markdown",
   "id": "8f60f1c1-f10f-4ef8-bf1c-cd5f9709cdc8",
   "metadata": {},
   "source": [
    "If all ranks are equal, we may set it is a number:"
   ]
  },
  {
   "cell_type": "code",
   "execution_count": 4,
   "id": "02d3afed-7678-497e-ad7e-d8225cb99ea9",
   "metadata": {},
   "outputs": [
    {
     "name": "stdout",
     "output_type": "stream",
     "text": [
      "HT-tensor  | d=  8\n",
      "Level:   1 | Shape: (8, 10, 4)\n",
      "Level:   2 | Shape: (4, 4, 4, 4)\n",
      "Level:   3 | Shape: (2, 4, 4, 4)\n",
      "Level:   4 | Shape: (4, 4)\n"
     ]
    }
   ],
   "source": [
    "d = 8   # Dimension of the tensor\n",
    "n = 10  # Mode size for the tensor\n",
    "r = 4   # Ranks for tree layers\n",
    "\n",
    "# Build the random HT-tensor:\n",
    "rng, key = jax.random.split(rng)\n",
    "Y = tnv.rand(d, n, r, key)\n",
    "\n",
    "# Print the resulting HT-tensor:\n",
    "tnv.show(Y)                   "
   ]
  },
  {
   "cell_type": "markdown",
   "id": "833169f7-28d4-4b9d-80d6-842010ac2035",
   "metadata": {},
   "source": [
    "We may also use custom limits for the uniform destribution:"
   ]
  },
  {
   "cell_type": "code",
   "execution_count": 5,
   "id": "bdfa1e5a-2869-42f3-9814-368d9dab160d",
   "metadata": {
    "tags": []
   },
   "outputs": [
    {
     "name": "stdout",
     "output_type": "stream",
     "text": [
      "[[0.99490545 0.99509254 0.99896936 0.9990159 ]\n",
      " [0.99463993 0.99899983 0.99047322 0.99053174]\n",
      " [0.99541567 0.99509018 0.99153423 0.99793196]\n",
      " [0.99355632 0.99384485 0.9993778  0.99203122]\n",
      " [0.99295211 0.99767601 0.990772   0.99722857]\n",
      " [0.99141873 0.99057659 0.99087454 0.99856481]\n",
      " [0.99690017 0.99883118 0.99864542 0.99090145]\n",
      " [0.99295839 0.99265914 0.99846659 0.99330255]\n",
      " [0.99348785 0.9949604  0.99655398 0.99307878]\n",
      " [0.99094869 0.99198819 0.99494987 0.9941452 ]]\n"
     ]
    }
   ],
   "source": [
    "a = 0.99  # Minimum value\n",
    "b = 1.    # Maximum value\n",
    "\n",
    "# Build the random HT-tensor:\n",
    "rng, key = jax.random.split(rng)\n",
    "Y = tnv.rand(d, n, r, key, a, b)\n",
    "\n",
    "# Print the first HT-core of first level (leafs):\n",
    "print(Y[0][0])                      "
   ]
  },
  {
   "cell_type": "markdown",
   "id": "e4b330b1-b020-44e8-81f9-b2d17c0d4531",
   "metadata": {
    "tags": []
   },
   "source": [
    "---"
   ]
  }
 ],
 "metadata": {
  "kernelspec": {
   "display_name": "Python 3 (ipykernel)",
   "language": "python",
   "name": "python3"
  },
  "language_info": {
   "codemirror_mode": {
    "name": "ipython",
    "version": 3
   },
   "file_extension": ".py",
   "mimetype": "text/x-python",
   "name": "python",
   "nbconvert_exporter": "python",
   "pygments_lexer": "ipython3",
   "version": "3.8.16"
  }
 },
 "nbformat": 4,
 "nbformat_minor": 5
}
